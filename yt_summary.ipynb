{
  "cells": [
    {
      "cell_type": "markdown",
      "metadata": {
        "id": "view-in-github",
        "colab_type": "text"
      },
      "source": [
        "<a href=\"https://colab.research.google.com/github/selvanath-a/ML-repo/blob/master/yt_summary.ipynb\" target=\"_parent\"><img src=\"https://colab.research.google.com/assets/colab-badge.svg\" alt=\"Open In Colab\"/></a>"
      ]
    },
    {
      "cell_type": "markdown",
      "metadata": {
        "id": "hXmxrQVXPnDj"
      },
      "source": [
        "# Generate a summary of a YouTube video with AI (GPT3)\n",
        "With this low-code solution you can get a summary of any YouTube video with captions. The solution is configured by default to summarize subtitles in English, offering the option to summarize in any other language by changing the configuration. As of the publication of this solution, OpenAI has not the limitations that ChatGPT does in terms of the number of characters per request.\n",
        "\n",
        "## Prerequisite\n",
        "\n",
        "- Register at [OpenAI](https://beta.openai.com/signup)\n",
        "- In the top right corner menu go to \"View API keys\"\n",
        "- Create the API key and copy it\n",
        "- In the same directory where this *notebook* is located you will find a file called \"env_example\". Rename it to \".env\" and replace 'your_api_key_here' with your key\n",
        "\n",
        "## To generate the summary\n",
        "\n",
        "- In the following cell replace \"your_url\" with the link of the video you want to summarize\n",
        "- Run the cell\n",
        "- The summary will be generated as \"summary.md\" which you can view in this same repository and even download to your computer\n"
      ]
    },
    {
      "cell_type": "markdown",
      "source": [
        "## First create your own copy of this notebook\n",
        "Go to **File > Save a copy in Drive**\n",
        "## Run the following cell to provide you OpenAI API key\n"
      ],
      "metadata": {
        "id": "MckkrYlrTpdh"
      }
    },
    {
      "cell_type": "code",
      "source": [
        "api_key = input(\"What is your OpenAI API key\")"
      ],
      "metadata": {
        "id": "QnWI7MTvilG7"
      },
      "execution_count": null,
      "outputs": []
    },
    {
      "cell_type": "markdown",
      "source": [
        "## Then run the following cell to install all dependencies and load the key as an environment variable.\n",
        "It will take a minute and you only need to do it once."
      ],
      "metadata": {
        "id": "4YLIwmKlilzW"
      }
    },
    {
      "cell_type": "code",
      "source": [
        "!git clone https://github.com/SprintWithCarlos/data_science\n",
        "!pip install -r /content/data_science/requirements.txt\n",
        "with open(\"/content/data_science/summarize/.env\", \"w\") as output_file:\n",
        "  output_file.write(f\"OPENAI_API={api_key}\")"
      ],
      "metadata": {
        "id": "Ky5byqKsPqXX"
      },
      "execution_count": null,
      "outputs": []
    },
    {
      "cell_type": "markdown",
      "source": [
        "## Now provide the YouTube link to the video"
      ],
      "metadata": {
        "id": "vEVmNS_EjHTx"
      }
    },
    {
      "cell_type": "code",
      "execution_count": null,
      "metadata": {
        "id": "mBrjrDlvPnDo",
        "colab": {
          "base_uri": "https://localhost:8080/"
        },
        "outputId": "2dc48047-c4db-4a41-87af-40f916d50ef7"
      },
      "outputs": [
        {
          "name": "stdout",
          "output_type": "stream",
          "text": [
            "Please provide the link to the videohttps://youtu.be/HPYIg4fJgwo\n"
          ]
        }
      ],
      "source": [
        "url = input(\"Please provide the link to the video \")\n",
        "%run /content/data_science/summarize/summary.py\n",
        "summarize(url)"
      ]
    },
    {
      "cell_type": "markdown",
      "source": [
        "## Once previous cell finishes, execute next cell to read summary. You can also get access to it via file browser"
      ],
      "metadata": {
        "id": "NvHSaeKoliuA"
      }
    },
    {
      "cell_type": "code",
      "source": [
        "with open(\"summary.md\", \"r\") as summary:\n",
        "  print(summary.read())"
      ],
      "metadata": {
        "colab": {
          "base_uri": "https://localhost:8080/"
        },
        "id": "4BFLV9F8lFC6",
        "outputId": "cd915a18-9c02-417e-eedd-a09c74e64c9e"
      },
      "execution_count": null,
      "outputs": [
        {
          "output_type": "stream",
          "name": "stdout",
          "text": [
            "# Transcript of \"Multipliers: 5 easy, high-leverage changes i'm making in 2023\" by Elizabeth filips\n",
            "Link: [https://youtu.be/HPYIg4fJgwo](https://youtu.be/HPYIg4fJgwo)\n",
            "## Executive Summary:\n",
            "This year, I have implemented strategies to improve my life such as focusing on one's rock bottom instead of the end goal, having a morning routine, using technology to make life easier, being honest about what works for you, taking time for yourself, and shifting my mindset from wanting what I don't have to focusing on my strengths. Additionally, I adopted a \"draft\" mindset when dealing with impulse control issues, and I am considering Brilliant as a platform to further hone my STEM skills.\n",
            "## Main Takeaways:\n",
            "  1. Elizabeth Filips shares five things that have had a huge impact on improving her life in the current year. The first is to focus on one's rock bottom instead of the end goal, which is supported by the psychological concept of the Fresh Start Effect. This effect states that when we start from scratch or turn a fresh page, we are much more motivated to do something than before. Other strategies shared include having a morning routine, using technology to make life easier, being honest about what works for you, and taking time for yourself. All of these ideas help to save time and energy, so that you can better focus on the big picture.\n",
            "  2.  The perspective shift here is to focus on the small steps you can take today to reach your goals instead of focusing on the end goal itself. This is more motivating and allows you to build momentum and make progress in a sustainable way. By setting achievable bare minimums, you can gradually increase the level of difficulty as you go, eventually reaching your desired goal.\n",
            "  3. This year, I have implemented two leverage changes to help me accomplish more in my life. The first one is a mindset shift where I focus on what I want instead of what I don't want. This helps me to stay motivated and passionate about my goals. The second one is using to-do lists that work for me. This involves dividing a piece of paper into two columns - one with a to-do list and one with a don't-do list. On the to-do list I write down everything I need to do that day, week, or month. On the don't-do list I write down activities I don't want to engage in that day, such as checking Instagram or skipping the gym. By ticking off as many items as I can on these lists, I am able to stay productive and focused on my goals.\n",
            "  4. This year I have been focusing more on my strengths and ignoring my weaknesses. I realize that if something is difficult for me to do even though it may be easy for other people, it might not be my fault, so I categorize those as my weaknesses. Examples of my weaknesses include remembering things, names, people, and tasks; focusing; and being consistent with my habits. By focusing on my strengths, I can avoid feeling guilty about not working hard enough on my weaknesses.\n",
            "  5. In order to make weaknesses average, I would recommend investing energy in things that I enjoy and am naturally good at. This is also known as the Fundamental Attribution Error, which refers to the idea that people are solely responsible for their own actions and outcomes. Building a strong sense of self rather than relying on external influences can help leverage weaknesses and improve overall performance.\n",
            "  6. It is important to know and understand who you are, what you feel, and what you want in life. Doing so can help reduce anxiety, increase productivity, and attract healthier relationships. There are many self-help resources available to assist with this process.\n",
            "  7. I struggle with being impulsive and needing to resolve things immediately, so I adopted a mindset shift of thinking of solutions as drafts. This allows me to come to a conclusion but also recognize that it might not be the final thing. It's helped me immensely in dealing with my impulse control issues. David Sinclair talks about how in the future the world will have capacity for an infinite amount of people who will be infinitely happy because our knowledge will increase so much that we will be able to do basically anything, and this idea applies on a smaller scale too.\n",
            "  8. If you're looking for ways to improve your performance in STEM fields, logic and reasoning are essential skills. Brilliant is a great way to practice and learn these skills, with exercises and lessons that focus on improving logical reasoning. The platform also offers a free trial and 20% off an early subscription. Regardless of whether Brilliant resonates with you or not, it is worth considering as a solution to becoming more successful in your STEM studies.\n",
            "  \n"
          ]
        }
      ]
    },
    {
      "cell_type": "markdown",
      "metadata": {
        "id": "TeXDKOrMPnDq"
      },
      "source": [
        "## Optional\n",
        "If you would like to make a summary in a language other than English, you can do so by replacing \"target_language\" with your selection in the following cell.\n",
        "Example:\n",
        "```python\n",
        "language = 'es' # use \"es\" for Spanish, \"fr\" for French...\n",
        "```"
      ]
    },
    {
      "cell_type": "code",
      "execution_count": null,
      "metadata": {
        "id": "YHOrC7ESPnDs"
      },
      "outputs": [],
      "source": [
        "url = \"your_url\"\n",
        "language = 'es'\n",
        "%run /content/summary.py\n",
        "summarize(url, language)"
      ]
    },
    {
      "cell_type": "markdown",
      "source": [
        "## Q&A\n",
        "**Isn't it easier to just pass the API key as an argument to the function?**  \n",
        "\n",
        "Yes, but using it as enviroment variable is more secure for the user and eliminates the chance of making it public by mistake  \n",
        "\n",
        "**Can I customize this low-code solution for my business/personal case**  \n",
        "Absolutely, it's open source code. If you need help just contact me\n",
        "\n",
        "**Can I deploy it elsewhere?**\n",
        "Yes, it's compatible to all current cloud solutions and also can run locally. You can try this notebook also in [GitHub Codespaces](https://github.com/SprintWithCarlos/data_science) and [DataCamp Workspace](https://app.datacamp.com/workspace/w/62cda43e-3864-4526-9224-8adec69ac5d7)\n"
      ],
      "metadata": {
        "id": "-ma-jMA9UMFS"
      }
    }
  ],
  "metadata": {
    "kernelspec": {
      "display_name": ".data_science",
      "language": "python",
      "name": "python3"
    },
    "language_info": {
      "codemirror_mode": {
        "name": "ipython",
        "version": 3
      },
      "file_extension": ".py",
      "mimetype": "text/x-python",
      "name": "python",
      "nbconvert_exporter": "python",
      "pygments_lexer": "ipython3",
      "version": "3.10.9"
    },
    "orig_nbformat": 4,
    "vscode": {
      "interpreter": {
        "hash": "d458fc347973702d25c1b44187acfa234887d08bc943f11096c2a5baf34a0cd5"
      }
    },
    "colab": {
      "provenance": [],
      "include_colab_link": true
    }
  },
  "nbformat": 4,
  "nbformat_minor": 0
}